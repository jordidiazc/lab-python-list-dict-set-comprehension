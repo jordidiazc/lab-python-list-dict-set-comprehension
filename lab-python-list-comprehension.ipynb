{
 "cells": [
  {
   "cell_type": "markdown",
   "id": "25d7736c-ba17-4aff-b6bb-66eba20fbf4e",
   "metadata": {},
   "source": [
    "# Lab | List, Dict and Set Comprehension"
   ]
  },
  {
   "cell_type": "markdown",
   "id": "7dd3cbde-675a-4b81-92c3-f728846dbe06",
   "metadata": {},
   "source": [
    "## Exercise: Managing Customer Orders Optimized with Comprehension"
   ]
  },
  {
   "cell_type": "markdown",
   "id": "5d500160-2fb7-4777-b5e4-09d45ebaf328",
   "metadata": {},
   "source": [
    "In the previous exercise, you developed a program to manage customer orders and inventory. Now, let's take it a step further and incorporate comprehension into your code.\n",
    "\n",
    "Follow the steps below to complete the exercise:\n",
    "\n",
    "1. Review your code from the previous exercise and identify areas where you can apply comprehension to simplify and streamline your code. \n",
    "\n",
    "    - *Hint: Apply it to initialize inventory, updating the inventory and printing the updated inventory.*\n",
    "    \n",
    "    - For example, in initializing the inventory, we could have:\n",
    "    \n",
    "        ```python\n",
    "        def initialize_inventory(products):\n",
    "            inventory = {product: int(input(f\"Enter the quantity of {product}s available: \")) for product in products}\n",
    "            return inventory\n",
    "\n",
    "        ```\n",
    "<br>\n",
    "    \n",
    "    \n",
    "2. Modify the function get_customer_orders so it prompts the user to enter the number of customer orders and gathers the product names using a loop and user input. Use comprehension.\n",
    "\n",
    "3. Add a new function to calculate the total price of the customer order. For each product in customer_orders, prompt the user to enter the price of that product. Use comprehension to calculate the total price. Note: assume that the user can only have 1 unit of each product.\n",
    "\n",
    "4. Modify the update_inventory function to remove the product from the inventory if its quantity becomes zero after fulfilling the customer orders. Use comprehension to filter out the products with a quantity of zero from the inventory.\n",
    "\n",
    "5. Print the total price of the customer order.\n",
    "\n",
    "Your code should produce output similar to the following:\n",
    "\n",
    "```python\n",
    "Enter the quantity of t-shirts available:  5\n",
    "Enter the quantity of mugs available:  4\n",
    "Enter the quantity of hats available:  3\n",
    "Enter the quantity of books available:  2\n",
    "Enter the quantity of keychains available:  1\n",
    "Enter the number of customer orders:  2\n",
    "Enter the name of a product that a customer wants to order:  hat\n",
    "Enter the name of a product that a customer wants to order:  keychain\n",
    "\n",
    "Order Statistics:\n",
    "Total Products Ordered: 2\n",
    "Percentage of Unique Products Ordered: 40.0\n",
    "\n",
    "Updated Inventory:\n",
    "t-shirt: 5\n",
    "mug: 4\n",
    "hat: 2\n",
    "book: 2\n",
    "Enter the price of keychain:  5\n",
    "Enter the price of hat:  10\n",
    "Total Price: 15.0\n",
    "\n",
    "```"
   ]
  },
  {
   "cell_type": "code",
   "execution_count": 1,
   "id": "00169c10",
   "metadata": {},
   "outputs": [],
   "source": [
    "products=[\"t-shirt\",\"mug\",\"hat\",\"book\",\"keychain\"] "
   ]
  },
  {
   "cell_type": "code",
   "execution_count": 2,
   "id": "7d084fbb",
   "metadata": {},
   "outputs": [],
   "source": [
    "def initialize_inventory(products):\n",
    "            inventory = {product: int(input(f\"Enter the quantity of {product}s available: \")) for product in products}\n",
    "            return inventory"
   ]
  },
  {
   "cell_type": "code",
   "execution_count": 3,
   "id": "58be0409",
   "metadata": {},
   "outputs": [],
   "source": [
    "def get_customer_orders(products):\n",
    "            customers_orders = {product: int(input(f\"Enter the quantity of {product}s ordered: \")) for product in products}\n",
    "            return customers_orders"
   ]
  },
  {
   "cell_type": "code",
   "execution_count": 4,
   "id": "87b0b5f3",
   "metadata": {},
   "outputs": [],
   "source": [
    "def price_inventory(products):\n",
    "            price = {product: int(input(f\"Enter the price of {product}s: \")) for product in products}\n",
    "            return price"
   ]
  },
  {
   "cell_type": "code",
   "execution_count": 5,
   "id": "fd2a609b",
   "metadata": {},
   "outputs": [],
   "source": [
    "def multiply_dicts(x, d):\n",
    "    final_price={x[key] * d[key]for key in x.keys() & d.keys()}\n",
    "    return final_price"
   ]
  },
  {
   "cell_type": "code",
   "execution_count": 8,
   "id": "becd2347",
   "metadata": {},
   "outputs": [],
   "source": [
    "def subtract_dicts(x, y):\n",
    "    return {key: x[key] - y.get(key, 0) for key in x}\n",
    "\n",
    "result_dict = subtract_dicts(x, y)"
   ]
  },
  {
   "cell_type": "code",
   "execution_count": 9,
   "id": "f05536ba",
   "metadata": {},
   "outputs": [
    {
     "name": "stdout",
     "output_type": "stream",
     "text": [
      "Enter the quantity of t-shirts available: 100\n",
      "Enter the quantity of mugs available: 90\n",
      "Enter the quantity of hats available: 80\n",
      "Enter the quantity of books available: 70\n",
      "Enter the quantity of keychains available: 60\n",
      "Enter the price of t-shirts: 1\n",
      "Enter the price of mugs: 2\n",
      "Enter the price of hats: 3\n",
      "Enter the price of books: 4\n",
      "Enter the price of keychains: 5\n",
      "Enter the quantity of t-shirts ordered: 10\n",
      "Enter the quantity of mugs ordered: 20\n",
      "Enter the quantity of hats ordered: 30\n",
      "Enter the quantity of books ordered: 40\n",
      "Enter the quantity of keychains ordered: 50\n",
      "Stock is:  {'t-shirt': 100, 'mug': 90, 'hat': 80, 'book': 70, 'keychain': 60}\n",
      "Price:  {'t-shirt': 1, 'mug': 2, 'hat': 3, 'book': 4, 'keychain': 5}\n",
      "Units ordered:  {'t-shirt': 10, 'mug': 20, 'hat': 30, 'book': 40, 'keychain': 50}\n",
      "Total price:  1100 €\n",
      "Final invetory:  {'t-shirt': 90, 'mug': 70, 'hat': 50, 'book': 30, 'keychain': 10}\n"
     ]
    }
   ],
   "source": [
    "x=initialize_inventory(products)\n",
    "d=price_inventory(products)\n",
    "y=get_customer_orders(products)\n",
    "\n",
    "print(\"Stock is: \",x) \n",
    "print(\"Price: \", d)\n",
    "print(\"Units ordered: \",y)\n",
    "print(\"Total price: \",sum(multiply_dicts(x, d)),\"€\")\n",
    "print(\"Final invetory: \",result_dict)"
   ]
  },
  {
   "cell_type": "code",
   "execution_count": null,
   "id": "c0f704f8",
   "metadata": {},
   "outputs": [],
   "source": []
  }
 ],
 "metadata": {
  "kernelspec": {
   "display_name": "Python 3 (ipykernel)",
   "language": "python",
   "name": "python3"
  },
  "language_info": {
   "codemirror_mode": {
    "name": "ipython",
    "version": 3
   },
   "file_extension": ".py",
   "mimetype": "text/x-python",
   "name": "python",
   "nbconvert_exporter": "python",
   "pygments_lexer": "ipython3",
   "version": "3.11.7"
  }
 },
 "nbformat": 4,
 "nbformat_minor": 5
}
